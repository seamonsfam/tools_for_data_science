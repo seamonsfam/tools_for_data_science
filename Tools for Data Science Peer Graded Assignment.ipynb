{
    "cells": [
        {
            "metadata": {
                "collapsed": true
            },
            "cell_type": "markdown",
            "source": "# H1 My Jupyter Notebook on IBM Watson Studio"
        },
        {
            "metadata": {},
            "cell_type": "markdown",
            "source": "**Martin Seamons**\n\nProcess Engineer Director"
        },
        {
            "metadata": {},
            "cell_type": "markdown",
            "source": "*I am interested in Data Science because today's world is flooded with data, and I need more skills to handle the deluge of data.  Also, the experimental equipment I used at work records all data for sensors such as temperature sensors, pressure gauges, gas flows, radio frequency power, match shunt and series capacitor positions, etc 24 hours a day 7 days a week.  I need to be able to collect, groom, review, and model the data to make them useful.*"
        },
        {
            "metadata": {},
            "cell_type": "markdown",
            "source": "# H3 My code will caculate the the weekly pay assuming an annual salary of $110000."
        },
        {
            "metadata": {},
            "cell_type": "code",
            "source": "weekly_pay = (110000/52)\nx = round(weekly_pay,2)\nprint('$',x)",
            "execution_count": 12,
            "outputs": [
                {
                    "output_type": "stream",
                    "text": "$ 2115.38\n",
                    "name": "stdout"
                }
            ]
        },
        {
            "metadata": {},
            "cell_type": "markdown",
            "source": " I will use the following three examples in my cell 5 markdown assignement:\n 1. Numbered list\n 2. Bulleted list\n 3. hyperlink\n 4. Strikethrough\n 5. The above 5 items were the exmpale of the number list.\n \n - This is the first item in my bulleted list.\n - This is the secon item in my bulleted list.\n - This concludes my bulleted list.\n \n Next is my hyperlink to google:\n [I'm an inline-style link] (https://www.google.com)\n \n~~This is my sample of strikethrough~~\n \n That is the end of the cell 6 assingment."
        },
        {
            "metadata": {},
            "cell_type": "code",
            "source": "",
            "execution_count": null,
            "outputs": []
        }
    ],
    "metadata": {
        "kernelspec": {
            "name": "python3",
            "display_name": "Python 3.9",
            "language": "python"
        },
        "language_info": {
            "name": "python",
            "version": "3.9.13",
            "mimetype": "text/x-python",
            "codemirror_mode": {
                "name": "ipython",
                "version": 3
            },
            "pygments_lexer": "ipython3",
            "nbconvert_exporter": "python",
            "file_extension": ".py"
        }
    },
    "nbformat": 4,
    "nbformat_minor": 1
}