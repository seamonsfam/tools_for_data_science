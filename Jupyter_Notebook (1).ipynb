{
 "cells": [
  {
   "cell_type": "markdown",
   "metadata": {},
   "source": [
    "<center>\n",
    "    <img src=\"https://s3-api.us-geo.objectstorage.softlayer.net/cf-courses-data/CognitiveClass/Logos/organization_logo/organization_logo.png\" width=\"300\" alt=\"cognitiveclass.ai logo\"  />\n",
    "</center>\n"
   ]
  },
  {
   "cell_type": "markdown",
   "metadata": {
    "jp-MarkdownHeadingCollapsed": true,
    "tags": []
   },
   "source": [
    "#### Add your code below following the instructions given in the course\n"
   ]
  },
  {
   "cell_type": "markdown",
   "metadata": {
    "tags": []
   },
   "source": [
    "# H1 My Jupyter Notebook on IBM Watson Studio"
   ]
  },
  {
   "cell_type": "markdown",
   "metadata": {},
   "source": [
    "**Martin Seamons**\n",
    "\n",
    "Process Engineer Director"
   ]
  },
  {
   "cell_type": "markdown",
   "metadata": {},
   "source": [
    "# H3 My code will calculate the the weekly pay assuming an annual salary of 110000 dollars."
   ]
  },
  {
   "cell_type": "code",
   "execution_count": 1,
   "metadata": {},
   "outputs": [
    {
     "name": "stdout",
     "output_type": "stream",
     "text": [
      "$ 2115.38\n"
     ]
    }
   ],
   "source": [
    "weekly_pay = (110000/52)\n",
    "x = round(weekly_pay,2)\n",
    "print('$',x)"
   ]
  },
  {
   "cell_type": "markdown",
   "metadata": {},
   "source": [
    " I will use the following three examples in my cell 5 markdown assignement:\n",
    " 1. Numbered list\n",
    " 2. Bulleted list\n",
    " 3. hyperlink\n",
    " 4. Strikethrough\n",
    " 5. The above 5 items were the exmpale of the number list.\n",
    " \n",
    " - This is the first item in my bulleted list.\n",
    " - This is the secon item in my bulleted list.\n",
    " - This concludes my bulleted list.\n",
    " \n",
    " Next is my hyperlink to google:\n",
    " [I'm an inline-style link] (https://www.google.com)\n",
    " \n",
    "~~This is my sample of strikethrough~~\n",
    " \n",
    " That is the end of the cell 6 assignment."
   ]
  },
  {
   "cell_type": "code",
   "execution_count": null,
   "metadata": {},
   "outputs": [],
   "source": []
  }
 ],
 "metadata": {
  "kernelspec": {
   "display_name": "Python",
   "language": "python",
   "name": "conda-env-python-py"
  },
  "language_info": {
   "codemirror_mode": {
    "name": "ipython",
    "version": 3
   },
   "file_extension": ".py",
   "mimetype": "text/x-python",
   "name": "python",
   "nbconvert_exporter": "python",
   "pygments_lexer": "ipython3",
   "version": "3.7.12"
  }
 },
 "nbformat": 4,
 "nbformat_minor": 4
}
